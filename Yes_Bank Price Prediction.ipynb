{
 "cells": [
  {
   "cell_type": "code",
   "execution_count": 1,
   "id": "2bb9cfae",
   "metadata": {},
   "outputs": [],
   "source": [
    "import pandas as pd\n",
    "import numpy as np\n",
    "import matplotlib.pyplot as plt\n",
    "import seaborn as sns\n",
    "%matplotlib inline"
   ]
  },
  {
   "cell_type": "code",
   "execution_count": 2,
   "id": "08f85810",
   "metadata": {},
   "outputs": [],
   "source": [
    "path=\"C:/Users/dilee/OneDrive/Desktop/Data Science/Datasets/data_YesBank_StockPrices.csv\""
   ]
  },
  {
   "cell_type": "code",
   "execution_count": 3,
   "id": "adaad9e6",
   "metadata": {},
   "outputs": [],
   "source": [
    "df=pd.read_csv(path)"
   ]
  },
  {
   "cell_type": "code",
   "execution_count": 4,
   "id": "f9d95607",
   "metadata": {},
   "outputs": [
    {
     "data": {
      "text/html": [
       "<div>\n",
       "<style scoped>\n",
       "    .dataframe tbody tr th:only-of-type {\n",
       "        vertical-align: middle;\n",
       "    }\n",
       "\n",
       "    .dataframe tbody tr th {\n",
       "        vertical-align: top;\n",
       "    }\n",
       "\n",
       "    .dataframe thead th {\n",
       "        text-align: right;\n",
       "    }\n",
       "</style>\n",
       "<table border=\"1\" class=\"dataframe\">\n",
       "  <thead>\n",
       "    <tr style=\"text-align: right;\">\n",
       "      <th></th>\n",
       "      <th>Date</th>\n",
       "      <th>Open</th>\n",
       "      <th>High</th>\n",
       "      <th>Low</th>\n",
       "      <th>Close</th>\n",
       "    </tr>\n",
       "  </thead>\n",
       "  <tbody>\n",
       "    <tr>\n",
       "      <th>0</th>\n",
       "      <td>Jul-05</td>\n",
       "      <td>13.00</td>\n",
       "      <td>14.00</td>\n",
       "      <td>11.25</td>\n",
       "      <td>12.46</td>\n",
       "    </tr>\n",
       "    <tr>\n",
       "      <th>1</th>\n",
       "      <td>Aug-05</td>\n",
       "      <td>12.58</td>\n",
       "      <td>14.88</td>\n",
       "      <td>12.55</td>\n",
       "      <td>13.42</td>\n",
       "    </tr>\n",
       "    <tr>\n",
       "      <th>2</th>\n",
       "      <td>Sep-05</td>\n",
       "      <td>13.48</td>\n",
       "      <td>14.87</td>\n",
       "      <td>12.27</td>\n",
       "      <td>13.30</td>\n",
       "    </tr>\n",
       "    <tr>\n",
       "      <th>3</th>\n",
       "      <td>Oct-05</td>\n",
       "      <td>13.20</td>\n",
       "      <td>14.47</td>\n",
       "      <td>12.40</td>\n",
       "      <td>12.99</td>\n",
       "    </tr>\n",
       "    <tr>\n",
       "      <th>4</th>\n",
       "      <td>Nov-05</td>\n",
       "      <td>13.35</td>\n",
       "      <td>13.88</td>\n",
       "      <td>12.88</td>\n",
       "      <td>13.41</td>\n",
       "    </tr>\n",
       "  </tbody>\n",
       "</table>\n",
       "</div>"
      ],
      "text/plain": [
       "     Date   Open   High    Low  Close\n",
       "0  Jul-05  13.00  14.00  11.25  12.46\n",
       "1  Aug-05  12.58  14.88  12.55  13.42\n",
       "2  Sep-05  13.48  14.87  12.27  13.30\n",
       "3  Oct-05  13.20  14.47  12.40  12.99\n",
       "4  Nov-05  13.35  13.88  12.88  13.41"
      ]
     },
     "execution_count": 4,
     "metadata": {},
     "output_type": "execute_result"
    }
   ],
   "source": [
    "df.head()"
   ]
  },
  {
   "cell_type": "code",
   "execution_count": 5,
   "id": "4a34d586",
   "metadata": {},
   "outputs": [
    {
     "data": {
      "text/html": [
       "<div>\n",
       "<style scoped>\n",
       "    .dataframe tbody tr th:only-of-type {\n",
       "        vertical-align: middle;\n",
       "    }\n",
       "\n",
       "    .dataframe tbody tr th {\n",
       "        vertical-align: top;\n",
       "    }\n",
       "\n",
       "    .dataframe thead th {\n",
       "        text-align: right;\n",
       "    }\n",
       "</style>\n",
       "<table border=\"1\" class=\"dataframe\">\n",
       "  <thead>\n",
       "    <tr style=\"text-align: right;\">\n",
       "      <th></th>\n",
       "      <th>Open</th>\n",
       "      <th>High</th>\n",
       "      <th>Low</th>\n",
       "      <th>Close</th>\n",
       "    </tr>\n",
       "  </thead>\n",
       "  <tbody>\n",
       "    <tr>\n",
       "      <th>count</th>\n",
       "      <td>185.000000</td>\n",
       "      <td>185.000000</td>\n",
       "      <td>185.000000</td>\n",
       "      <td>185.000000</td>\n",
       "    </tr>\n",
       "    <tr>\n",
       "      <th>mean</th>\n",
       "      <td>105.541405</td>\n",
       "      <td>116.104324</td>\n",
       "      <td>94.947838</td>\n",
       "      <td>105.204703</td>\n",
       "    </tr>\n",
       "    <tr>\n",
       "      <th>std</th>\n",
       "      <td>98.879850</td>\n",
       "      <td>106.333497</td>\n",
       "      <td>91.219415</td>\n",
       "      <td>98.583153</td>\n",
       "    </tr>\n",
       "    <tr>\n",
       "      <th>min</th>\n",
       "      <td>10.000000</td>\n",
       "      <td>11.240000</td>\n",
       "      <td>5.550000</td>\n",
       "      <td>9.980000</td>\n",
       "    </tr>\n",
       "    <tr>\n",
       "      <th>25%</th>\n",
       "      <td>33.800000</td>\n",
       "      <td>36.140000</td>\n",
       "      <td>28.510000</td>\n",
       "      <td>33.450000</td>\n",
       "    </tr>\n",
       "    <tr>\n",
       "      <th>50%</th>\n",
       "      <td>62.980000</td>\n",
       "      <td>72.550000</td>\n",
       "      <td>58.000000</td>\n",
       "      <td>62.540000</td>\n",
       "    </tr>\n",
       "    <tr>\n",
       "      <th>75%</th>\n",
       "      <td>153.000000</td>\n",
       "      <td>169.190000</td>\n",
       "      <td>138.350000</td>\n",
       "      <td>153.300000</td>\n",
       "    </tr>\n",
       "    <tr>\n",
       "      <th>max</th>\n",
       "      <td>369.950000</td>\n",
       "      <td>404.000000</td>\n",
       "      <td>345.500000</td>\n",
       "      <td>367.900000</td>\n",
       "    </tr>\n",
       "  </tbody>\n",
       "</table>\n",
       "</div>"
      ],
      "text/plain": [
       "             Open        High         Low       Close\n",
       "count  185.000000  185.000000  185.000000  185.000000\n",
       "mean   105.541405  116.104324   94.947838  105.204703\n",
       "std     98.879850  106.333497   91.219415   98.583153\n",
       "min     10.000000   11.240000    5.550000    9.980000\n",
       "25%     33.800000   36.140000   28.510000   33.450000\n",
       "50%     62.980000   72.550000   58.000000   62.540000\n",
       "75%    153.000000  169.190000  138.350000  153.300000\n",
       "max    369.950000  404.000000  345.500000  367.900000"
      ]
     },
     "execution_count": 5,
     "metadata": {},
     "output_type": "execute_result"
    }
   ],
   "source": [
    "df.describe()"
   ]
  },
  {
   "cell_type": "code",
   "execution_count": 6,
   "id": "ce1ba89e",
   "metadata": {},
   "outputs": [
    {
     "data": {
      "text/plain": [
       "['Date', 'Open', 'High', 'Low', 'Close']"
      ]
     },
     "execution_count": 6,
     "metadata": {},
     "output_type": "execute_result"
    }
   ],
   "source": [
    "df.columns.to_list()"
   ]
  },
  {
   "cell_type": "code",
   "execution_count": 7,
   "id": "799b8fe7",
   "metadata": {},
   "outputs": [
    {
     "data": {
      "image/png": "[encoded data removed]",
      "text/plain": [
       "<Figure size 360x360 with 1 Axes>"
      ]
     },
     "metadata": {
      "needs_background": "light"
     },
     "output_type": "display_data"
    },
    {
     "data": {
      "image/png": "[encoded data removed]",
      "text/plain": [
       "<Figure size 360x360 with 1 Axes>"
      ]
     },
     "metadata": {
      "needs_background": "light"
     },
     "output_type": "display_data"
    },
    {
     "data": {
      "image/png": "[encoded data removed]",
      "text/plain": [
       "<Figure size 360x360 with 1 Axes>"
      ]
     },
     "metadata": {
      "needs_background": "light"
     },
     "output_type": "display_data"
    },
    {
     "data": {
      "image/png": "[encoded data removed]",
      "text/plain": [
       "<Figure size 360x360 with 1 Axes>"
      ]
     },
     "metadata": {
      "needs_background": "light"
     },
     "output_type": "display_data"
    }
   ],
   "source": [
    "for i in df.columns.to_list():\n",
    "    if i=='Date':\n",
    "        continue\n",
    "    else:\n",
    "        sns.displot(df[i])"
   ]
  },
  {
   "cell_type": "code",
   "execution_count": 8,
   "id": "888be78b",
   "metadata": {},
   "outputs": [
    {
     "data": {
      "image/png": "[encoded data removed]",
      "text/plain": [
       "<Figure size 432x288 with 1 Axes>"
      ]
     },
     "metadata": {
      "needs_background": "light"
     },
     "output_type": "display_data"
    },
    {
     "data": {
      "image/png": "[encoded data removed]",
      "text/plain": [
       "<Figure size 432x288 with 1 Axes>"
      ]
     },
     "metadata": {
      "needs_background": "light"
     },
     "output_type": "display_data"
    },
    {
     "data": {
      "image/png": "[encoded data removed]",
      "text/plain": [
       "<Figure size 432x288 with 1 Axes>"
      ]
     },
     "metadata": {
      "needs_background": "light"
     },
     "output_type": "display_data"
    },
    {
     "data": {
      "image/png": "[encoded data removed]",
      "text/plain": [
       "<Figure size 432x288 with 1 Axes>"
      ]
     },
     "metadata": {
      "needs_background": "light"
     },
     "output_type": "display_data"
    },
    {
     "data": {
      "image/png": "[encoded data removed]",
      "text/plain": [
       "<Figure size 432x288 with 1 Axes>"
      ]
     },
     "metadata": {
      "needs_background": "light"
     },
     "output_type": "display_data"
    }
   ],
   "source": [
    "for i in df.columns.to_list():\n",
    "    plt.subplots(1,1)\n",
    "    sns.scatterplot(x=df[i], y=df['Close'])"
   ]
  },
  {
   "cell_type": "code",
   "execution_count": null,
   "id": "29f4c1b2",
   "metadata": {},
   "outputs": [],
   "source": []
  },
  {
   "cell_type": "code",
   "execution_count": 9,
   "id": "dff9839a",
   "metadata": {},
   "outputs": [],
   "source": [
    "df['date']=df['Date']"
   ]
  },
  {
   "cell_type": "code",
   "execution_count": 10,
   "id": "cdc16193",
   "metadata": {},
   "outputs": [
    {
     "name": "stdout",
     "output_type": "stream",
     "text": [
      "<class 'pandas.core.frame.DataFrame'>\n",
      "RangeIndex: 185 entries, 0 to 184\n",
      "Data columns (total 6 columns):\n",
      " #   Column  Non-Null Count  Dtype  \n",
      "---  ------  --------------  -----  \n",
      " 0   Date    185 non-null    object \n",
      " 1   Open    185 non-null    float64\n",
      " 2   High    185 non-null    float64\n",
      " 3   Low     185 non-null    float64\n",
      " 4   Close   185 non-null    float64\n",
      " 5   date    185 non-null    object \n",
      "dtypes: float64(4), object(2)\n",
      "memory usage: 8.8+ KB\n"
     ]
    }
   ],
   "source": [
    "df.info()"
   ]
  },
  {
   "cell_type": "code",
   "execution_count": 11,
   "id": "b826b9c2",
   "metadata": {},
   "outputs": [
    {
     "data": {
      "text/plain": [
       "Date     0\n",
       "Open     0\n",
       "High     0\n",
       "Low      0\n",
       "Close    0\n",
       "date     0\n",
       "dtype: int64"
      ]
     },
     "execution_count": 11,
     "metadata": {},
     "output_type": "execute_result"
    }
   ],
   "source": [
    "df.isna().sum()"
   ]
  },
  {
   "cell_type": "code",
   "execution_count": 12,
   "id": "d3d9f12e",
   "metadata": {},
   "outputs": [
    {
     "data": {
      "text/plain": [
       "(185, 6)"
      ]
     },
     "execution_count": 12,
     "metadata": {},
     "output_type": "execute_result"
    }
   ],
   "source": [
    "df.shape"
   ]
  },
  {
   "cell_type": "code",
   "execution_count": 13,
   "id": "99afedfc",
   "metadata": {},
   "outputs": [
    {
     "data": {
      "text/plain": [
       "['Jul-05',\n",
       " 'Aug-05',\n",
       " 'Sep-05',\n",
       " 'Oct-05',\n",
       " 'Nov-05',\n",
       " 'Dec-05',\n",
       " 'Jan-06',\n",
       " 'Feb-06',\n",
       " 'Mar-06',\n",
       " 'Apr-06',\n",
       " 'May-06',\n",
       " 'Jun-06',\n",
       " 'Jul-06',\n",
       " 'Aug-06',\n",
       " 'Sep-06',\n",
       " 'Oct-06',\n",
       " 'Nov-06',\n",
       " 'Dec-06',\n",
       " 'Jan-07',\n",
       " 'Feb-07',\n",
       " 'Mar-07',\n",
       " 'Apr-07',\n",
       " 'May-07',\n",
       " 'Jun-07',\n",
       " 'Jul-07',\n",
       " 'Aug-07',\n",
       " 'Sep-07',\n",
       " 'Oct-07',\n",
       " 'Nov-07',\n",
       " 'Dec-07',\n",
       " 'Jan-08',\n",
       " 'Feb-08',\n",
       " 'Mar-08',\n",
       " 'Apr-08',\n",
       " 'May-08',\n",
       " 'Jun-08',\n",
       " 'Jul-08',\n",
       " 'Aug-08',\n",
       " 'Sep-08',\n",
       " 'Oct-08',\n",
       " 'Nov-08',\n",
       " 'Dec-08',\n",
       " 'Jan-09',\n",
       " 'Feb-09',\n",
       " 'Mar-09',\n",
       " 'Apr-09',\n",
       " 'May-09',\n",
       " 'Jun-09',\n",
       " 'Jul-09',\n",
       " 'Aug-09',\n",
       " 'Sep-09',\n",
       " 'Oct-09',\n",
       " 'Nov-09',\n",
       " 'Dec-09',\n",
       " 'Jan-10',\n",
       " 'Feb-10',\n",
       " 'Mar-10',\n",
       " 'Apr-10',\n",
       " 'May-10',\n",
       " 'Jun-10',\n",
       " 'Jul-10',\n",
       " 'Aug-10',\n",
       " 'Sep-10',\n",
       " 'Oct-10',\n",
       " 'Nov-10',\n",
       " 'Dec-10',\n",
       " 'Jan-11',\n",
       " 'Feb-11',\n",
       " 'Mar-11',\n",
       " 'Apr-11',\n",
       " 'May-11',\n",
       " 'Jun-11',\n",
       " 'Jul-11',\n",
       " 'Aug-11',\n",
       " 'Sep-11',\n",
       " 'Oct-11',\n",
       " 'Nov-11',\n",
       " 'Dec-11',\n",
       " 'Jan-12',\n",
       " 'Feb-12',\n",
       " 'Mar-12',\n",
       " 'Apr-12',\n",
       " 'May-12',\n",
       " 'Jun-12',\n",
       " 'Jul-12',\n",
       " 'Aug-12',\n",
       " 'Sep-12',\n",
       " 'Oct-12',\n",
       " 'Nov-12',\n",
       " 'Dec-12',\n",
       " 'Jan-13',\n",
       " 'Feb-13',\n",
       " 'Mar-13',\n",
       " 'Apr-13',\n",
       " 'May-13',\n",
       " 'Jun-13',\n",
       " 'Jul-13',\n",
       " 'Aug-13',\n",
       " 'Sep-13',\n",
       " 'Oct-13',\n",
       " 'Nov-13',\n",
       " 'Dec-13',\n",
       " 'Jan-14',\n",
       " 'Feb-14',\n",
       " 'Mar-14',\n",
       " 'Apr-14',\n",
       " 'May-14',\n",
       " 'Jun-14',\n",
       " 'Jul-14',\n",
       " 'Aug-14',\n",
       " 'Sep-14',\n",
       " 'Oct-14',\n",
       " 'Nov-14',\n",
       " 'Dec-14',\n",
       " 'Jan-15',\n",
       " 'Feb-15',\n",
       " 'Mar-15',\n",
       " 'Apr-15',\n",
       " 'May-15',\n",
       " 'Jun-15',\n",
       " 'Jul-15',\n",
       " 'Aug-15',\n",
       " 'Sep-15',\n",
       " 'Oct-15',\n",
       " 'Nov-15',\n",
       " 'Dec-15',\n",
       " 'Jan-16',\n",
       " 'Feb-16',\n",
       " 'Mar-16',\n",
       " 'Apr-16',\n",
       " 'May-16',\n",
       " 'Jun-16',\n",
       " 'Jul-16',\n",
       " 'Aug-16',\n",
       " 'Sep-16',\n",
       " 'Oct-16',\n",
       " 'Nov-16',\n",
       " 'Dec-16',\n",
       " 'Jan-17',\n",
       " 'Feb-17',\n",
       " 'Mar-17',\n",
       " 'Apr-17',\n",
       " 'May-17',\n",
       " 'Jun-17',\n",
       " 'Jul-17',\n",
       " 'Aug-17',\n",
       " 'Sep-17',\n",
       " 'Oct-17',\n",
       " 'Nov-17',\n",
       " 'Dec-17',\n",
       " 'Jan-18',\n",
       " 'Feb-18',\n",
       " 'Mar-18',\n",
       " 'Apr-18',\n",
       " 'May-18',\n",
       " 'Jun-18',\n",
       " 'Jul-18',\n",
       " 'Aug-18',\n",
       " 'Sep-18',\n",
       " 'Oct-18',\n",
       " 'Nov-18',\n",
       " 'Dec-18',\n",
       " 'Jan-19',\n",
       " 'Feb-19',\n",
       " 'Mar-19',\n",
       " 'Apr-19',\n",
       " 'May-19',\n",
       " 'Jun-19',\n",
       " 'Jul-19',\n",
       " 'Aug-19',\n",
       " 'Sep-19',\n",
       " 'Oct-19',\n",
       " 'Nov-19',\n",
       " 'Dec-19',\n",
       " 'Jan-20',\n",
       " 'Feb-20',\n",
       " 'Mar-20',\n",
       " 'Apr-20',\n",
       " 'May-20',\n",
       " 'Jun-20',\n",
       " 'Jul-20',\n",
       " 'Aug-20',\n",
       " 'Sep-20',\n",
       " 'Oct-20',\n",
       " 'Nov-20']"
      ]
     },
     "execution_count": 13,
     "metadata": {},
     "output_type": "execute_result"
    }
   ],
   "source": [
    "list(df.Date.values)"
   ]
  },
  {
   "cell_type": "code",
   "execution_count": 14,
   "id": "0bef33f7",
   "metadata": {},
   "outputs": [
    {
     "data": {
      "text/plain": [
       "['Jul-05',\n",
       " 'Aug-05',\n",
       " 'Sep-05',\n",
       " 'Oct-05',\n",
       " 'Nov-05',\n",
       " 'Dec-05',\n",
       " 'Jan-06',\n",
       " 'Feb-06',\n",
       " 'Mar-06',\n",
       " 'Apr-06',\n",
       " 'May-06',\n",
       " 'Jun-06',\n",
       " 'Jul-06',\n",
       " 'Aug-06',\n",
       " 'Sep-06',\n",
       " 'Oct-06',\n",
       " 'Nov-06',\n",
       " 'Dec-06',\n",
       " 'Jan-07',\n",
       " 'Feb-07',\n",
       " 'Mar-07',\n",
       " 'Apr-07',\n",
       " 'May-07',\n",
       " 'Jun-07',\n",
       " 'Jul-07',\n",
       " 'Aug-07',\n",
       " 'Sep-07',\n",
       " 'Oct-07',\n",
       " 'Nov-07',\n",
       " 'Dec-07',\n",
       " 'Jan-08',\n",
       " 'Feb-08',\n",
       " 'Mar-08',\n",
       " 'Apr-08',\n",
       " 'May-08',\n",
       " 'Jun-08',\n",
       " 'Jul-08',\n",
       " 'Aug-08',\n",
       " 'Sep-08',\n",
       " 'Oct-08',\n",
       " 'Nov-08',\n",
       " 'Dec-08',\n",
       " 'Jan-09',\n",
       " 'Feb-09',\n",
       " 'Mar-09',\n",
       " 'Apr-09',\n",
       " 'May-09',\n",
       " 'Jun-09',\n",
       " 'Jul-09',\n",
       " 'Aug-09',\n",
       " 'Sep-09',\n",
       " 'Oct-09',\n",
       " 'Nov-09',\n",
       " 'Dec-09',\n",
       " 'Jan-10',\n",
       " 'Feb-10',\n",
       " 'Mar-10',\n",
       " 'Apr-10',\n",
       " 'May-10',\n",
       " 'Jun-10',\n",
       " 'Jul-10',\n",
       " 'Aug-10',\n",
       " 'Sep-10',\n",
       " 'Oct-10',\n",
       " 'Nov-10',\n",
       " 'Dec-10',\n",
       " 'Jan-11',\n",
       " 'Feb-11',\n",
       " 'Mar-11',\n",
       " 'Apr-11',\n",
       " 'May-11',\n",
       " 'Jun-11',\n",
       " 'Jul-11',\n",
       " 'Aug-11',\n",
       " 'Sep-11',\n",
       " 'Oct-11',\n",
       " 'Nov-11',\n",
       " 'Dec-11',\n",
       " 'Jan-12',\n",
       " 'Feb-12',\n",
       " 'Mar-12',\n",
       " 'Apr-12',\n",
       " 'May-12',\n",
       " 'Jun-12',\n",
       " 'Jul-12',\n",
       " 'Aug-12',\n",
       " 'Sep-12',\n",
       " 'Oct-12',\n",
       " 'Nov-12',\n",
       " 'Dec-12',\n",
       " 'Jan-13',\n",
       " 'Feb-13',\n",
       " 'Mar-13',\n",
       " 'Apr-13',\n",
       " 'May-13',\n",
       " 'Jun-13',\n",
       " 'Jul-13',\n",
       " 'Aug-13',\n",
       " 'Sep-13',\n",
       " 'Oct-13',\n",
       " 'Nov-13',\n",
       " 'Dec-13',\n",
       " 'Jan-14',\n",
       " 'Feb-14',\n",
       " 'Mar-14',\n",
       " 'Apr-14',\n",
       " 'May-14',\n",
       " 'Jun-14',\n",
       " 'Jul-14',\n",
       " 'Aug-14',\n",
       " 'Sep-14',\n",
       " 'Oct-14',\n",
       " 'Nov-14',\n",
       " 'Dec-14',\n",
       " 'Jan-15',\n",
       " 'Feb-15',\n",
       " 'Mar-15',\n",
       " 'Apr-15',\n",
       " 'May-15',\n",
       " 'Jun-15',\n",
       " 'Jul-15',\n",
       " 'Aug-15',\n",
       " 'Sep-15',\n",
       " 'Oct-15',\n",
       " 'Nov-15',\n",
       " 'Dec-15',\n",
       " 'Jan-16',\n",
       " 'Feb-16',\n",
       " 'Mar-16',\n",
       " 'Apr-16',\n",
       " 'May-16',\n",
       " 'Jun-16',\n",
       " 'Jul-16',\n",
       " 'Aug-16',\n",
       " 'Sep-16',\n",
       " 'Oct-16',\n",
       " 'Nov-16',\n",
       " 'Dec-16',\n",
       " 'Jan-17',\n",
       " 'Feb-17',\n",
       " 'Mar-17',\n",
       " 'Apr-17',\n",
       " 'May-17',\n",
       " 'Jun-17',\n",
       " 'Jul-17',\n",
       " 'Aug-17',\n",
       " 'Sep-17',\n",
       " 'Oct-17',\n",
       " 'Nov-17',\n",
       " 'Dec-17',\n",
       " 'Jan-18',\n",
       " 'Feb-18',\n",
       " 'Mar-18',\n",
       " 'Apr-18',\n",
       " 'May-18',\n",
       " 'Jun-18',\n",
       " 'Jul-18',\n",
       " 'Aug-18',\n",
       " 'Sep-18',\n",
       " 'Oct-18',\n",
       " 'Nov-18',\n",
       " 'Dec-18',\n",
       " 'Jan-19',\n",
       " 'Feb-19',\n",
       " 'Mar-19',\n",
       " 'Apr-19',\n",
       " 'May-19',\n",
       " 'Jun-19',\n",
       " 'Jul-19',\n",
       " 'Aug-19',\n",
       " 'Sep-19',\n",
       " 'Oct-19',\n",
       " 'Nov-19',\n",
       " 'Dec-19',\n",
       " 'Jan-20',\n",
       " 'Feb-20',\n",
       " 'Mar-20',\n",
       " 'Apr-20',\n",
       " 'May-20',\n",
       " 'Jun-20',\n",
       " 'Jul-20',\n",
       " 'Aug-20',\n",
       " 'Sep-20',\n",
       " 'Oct-20',\n",
       " 'Nov-20']"
      ]
     },
     "execution_count": 14,
     "metadata": {},
     "output_type": "execute_result"
    }
   ],
   "source": [
    "list(df.Date.values)"
   ]
  },
  {
   "cell_type": "code",
   "execution_count": 15,
   "id": "ad8bf492",
   "metadata": {},
   "outputs": [],
   "source": [
    "df['Date']=df['Date'].str.split('-')"
   ]
  },
  {
   "cell_type": "code",
   "execution_count": 16,
   "id": "1e6a3689",
   "metadata": {},
   "outputs": [
    {
     "data": {
      "text/plain": [
       "['Aug', '05']"
      ]
     },
     "execution_count": 16,
     "metadata": {},
     "output_type": "execute_result"
    }
   ],
   "source": [
    "df['Date'][1]"
   ]
  },
  {
   "cell_type": "code",
   "execution_count": 17,
   "id": "69510587",
   "metadata": {},
   "outputs": [],
   "source": [
    "def treat_date(col):\n",
    "    year=[]\n",
    "    for value in col:\n",
    "        year.append(value[1])\n",
    "    return year\n",
    "    "
   ]
  },
  {
   "cell_type": "code",
   "execution_count": 18,
   "id": "eab620c4",
   "metadata": {},
   "outputs": [],
   "source": [
    "df['Year']=treat_date(df['Date'])"
   ]
  },
  {
   "cell_type": "code",
   "execution_count": 19,
   "id": "3c564c9a",
   "metadata": {},
   "outputs": [
    {
     "data": {
      "text/plain": [
       "0      05\n",
       "1      05\n",
       "2      05\n",
       "3      05\n",
       "4      05\n",
       "       ..\n",
       "180    20\n",
       "181    20\n",
       "182    20\n",
       "183    20\n",
       "184    20\n",
       "Name: Year, Length: 185, dtype: object"
      ]
     },
     "execution_count": 19,
     "metadata": {},
     "output_type": "execute_result"
    }
   ],
   "source": [
    "df['Year']"
   ]
  },
  {
   "cell_type": "code",
   "execution_count": 20,
   "id": "609b4b9c",
   "metadata": {},
   "outputs": [],
   "source": [
    "df['Year'] = df['Year'].apply(str)"
   ]
  },
  {
   "cell_type": "code",
   "execution_count": 21,
   "id": "d1f1a81f",
   "metadata": {},
   "outputs": [],
   "source": [
    "def get_month(col):\n",
    "    month=[]\n",
    "    for value in col:\n",
    "        \n",
    "        month.append(value[0])\n",
    "    return month"
   ]
  },
  {
   "cell_type": "code",
   "execution_count": 22,
   "id": "eea707c8",
   "metadata": {},
   "outputs": [],
   "source": [
    "df['Month']=get_month(df['Date'])"
   ]
  },
  {
   "cell_type": "code",
   "execution_count": 23,
   "id": "1c0bda90",
   "metadata": {},
   "outputs": [
    {
     "data": {
      "text/html": [
       "<div>\n",
       "<style scoped>\n",
       "    .dataframe tbody tr th:only-of-type {\n",
       "        vertical-align: middle;\n",
       "    }\n",
       "\n",
       "    .dataframe tbody tr th {\n",
       "        vertical-align: top;\n",
       "    }\n",
       "\n",
       "    .dataframe thead th {\n",
       "        text-align: right;\n",
       "    }\n",
       "</style>\n",
       "<table border=\"1\" class=\"dataframe\">\n",
       "  <thead>\n",
       "    <tr style=\"text-align: right;\">\n",
       "      <th></th>\n",
       "      <th>Date</th>\n",
       "      <th>Open</th>\n",
       "      <th>High</th>\n",
       "      <th>Low</th>\n",
       "      <th>Close</th>\n",
       "      <th>date</th>\n",
       "      <th>Year</th>\n",
       "      <th>Month</th>\n",
       "    </tr>\n",
       "  </thead>\n",
       "  <tbody>\n",
       "    <tr>\n",
       "      <th>180</th>\n",
       "      <td>[Jul, 20]</td>\n",
       "      <td>25.60</td>\n",
       "      <td>28.30</td>\n",
       "      <td>11.10</td>\n",
       "      <td>11.95</td>\n",
       "      <td>Jul-20</td>\n",
       "      <td>20</td>\n",
       "      <td>Jul</td>\n",
       "    </tr>\n",
       "    <tr>\n",
       "      <th>181</th>\n",
       "      <td>[Aug, 20]</td>\n",
       "      <td>12.00</td>\n",
       "      <td>17.16</td>\n",
       "      <td>11.85</td>\n",
       "      <td>14.37</td>\n",
       "      <td>Aug-20</td>\n",
       "      <td>20</td>\n",
       "      <td>Aug</td>\n",
       "    </tr>\n",
       "    <tr>\n",
       "      <th>182</th>\n",
       "      <td>[Sep, 20]</td>\n",
       "      <td>14.30</td>\n",
       "      <td>15.34</td>\n",
       "      <td>12.75</td>\n",
       "      <td>13.15</td>\n",
       "      <td>Sep-20</td>\n",
       "      <td>20</td>\n",
       "      <td>Sep</td>\n",
       "    </tr>\n",
       "    <tr>\n",
       "      <th>183</th>\n",
       "      <td>[Oct, 20]</td>\n",
       "      <td>13.30</td>\n",
       "      <td>14.01</td>\n",
       "      <td>12.11</td>\n",
       "      <td>12.42</td>\n",
       "      <td>Oct-20</td>\n",
       "      <td>20</td>\n",
       "      <td>Oct</td>\n",
       "    </tr>\n",
       "    <tr>\n",
       "      <th>184</th>\n",
       "      <td>[Nov, 20]</td>\n",
       "      <td>12.41</td>\n",
       "      <td>14.90</td>\n",
       "      <td>12.21</td>\n",
       "      <td>14.67</td>\n",
       "      <td>Nov-20</td>\n",
       "      <td>20</td>\n",
       "      <td>Nov</td>\n",
       "    </tr>\n",
       "  </tbody>\n",
       "</table>\n",
       "</div>"
      ],
      "text/plain": [
       "          Date   Open   High    Low  Close    date Year Month\n",
       "180  [Jul, 20]  25.60  28.30  11.10  11.95  Jul-20   20   Jul\n",
       "181  [Aug, 20]  12.00  17.16  11.85  14.37  Aug-20   20   Aug\n",
       "182  [Sep, 20]  14.30  15.34  12.75  13.15  Sep-20   20   Sep\n",
       "183  [Oct, 20]  13.30  14.01  12.11  12.42  Oct-20   20   Oct\n",
       "184  [Nov, 20]  12.41  14.90  12.21  14.67  Nov-20   20   Nov"
      ]
     },
     "execution_count": 23,
     "metadata": {},
     "output_type": "execute_result"
    }
   ],
   "source": [
    "df.tail()"
   ]
  },
  {
   "cell_type": "code",
   "execution_count": 24,
   "id": "3b1848f3",
   "metadata": {},
   "outputs": [
    {
     "data": {
      "text/html": [
       "<div>\n",
       "<style scoped>\n",
       "    .dataframe tbody tr th:only-of-type {\n",
       "        vertical-align: middle;\n",
       "    }\n",
       "\n",
       "    .dataframe tbody tr th {\n",
       "        vertical-align: top;\n",
       "    }\n",
       "\n",
       "    .dataframe thead th {\n",
       "        text-align: right;\n",
       "    }\n",
       "</style>\n",
       "<table border=\"1\" class=\"dataframe\">\n",
       "  <thead>\n",
       "    <tr style=\"text-align: right;\">\n",
       "      <th></th>\n",
       "      <th>Date</th>\n",
       "      <th>Open</th>\n",
       "      <th>High</th>\n",
       "      <th>Low</th>\n",
       "      <th>Close</th>\n",
       "      <th>date</th>\n",
       "      <th>Year</th>\n",
       "      <th>Month</th>\n",
       "    </tr>\n",
       "  </thead>\n",
       "  <tbody>\n",
       "    <tr>\n",
       "      <th>0</th>\n",
       "      <td>[Jul, 05]</td>\n",
       "      <td>13.00</td>\n",
       "      <td>14.00</td>\n",
       "      <td>11.25</td>\n",
       "      <td>12.46</td>\n",
       "      <td>Jul-05</td>\n",
       "      <td>05</td>\n",
       "      <td>Jul</td>\n",
       "    </tr>\n",
       "    <tr>\n",
       "      <th>1</th>\n",
       "      <td>[Aug, 05]</td>\n",
       "      <td>12.58</td>\n",
       "      <td>14.88</td>\n",
       "      <td>12.55</td>\n",
       "      <td>13.42</td>\n",
       "      <td>Aug-05</td>\n",
       "      <td>05</td>\n",
       "      <td>Aug</td>\n",
       "    </tr>\n",
       "    <tr>\n",
       "      <th>2</th>\n",
       "      <td>[Sep, 05]</td>\n",
       "      <td>13.48</td>\n",
       "      <td>14.87</td>\n",
       "      <td>12.27</td>\n",
       "      <td>13.30</td>\n",
       "      <td>Sep-05</td>\n",
       "      <td>05</td>\n",
       "      <td>Sep</td>\n",
       "    </tr>\n",
       "    <tr>\n",
       "      <th>3</th>\n",
       "      <td>[Oct, 05]</td>\n",
       "      <td>13.20</td>\n",
       "      <td>14.47</td>\n",
       "      <td>12.40</td>\n",
       "      <td>12.99</td>\n",
       "      <td>Oct-05</td>\n",
       "      <td>05</td>\n",
       "      <td>Oct</td>\n",
       "    </tr>\n",
       "    <tr>\n",
       "      <th>4</th>\n",
       "      <td>[Nov, 05]</td>\n",
       "      <td>13.35</td>\n",
       "      <td>13.88</td>\n",
       "      <td>12.88</td>\n",
       "      <td>13.41</td>\n",
       "      <td>Nov-05</td>\n",
       "      <td>05</td>\n",
       "      <td>Nov</td>\n",
       "    </tr>\n",
       "  </tbody>\n",
       "</table>\n",
       "</div>"
      ],
      "text/plain": [
       "        Date   Open   High    Low  Close    date Year Month\n",
       "0  [Jul, 05]  13.00  14.00  11.25  12.46  Jul-05   05   Jul\n",
       "1  [Aug, 05]  12.58  14.88  12.55  13.42  Aug-05   05   Aug\n",
       "2  [Sep, 05]  13.48  14.87  12.27  13.30  Sep-05   05   Sep\n",
       "3  [Oct, 05]  13.20  14.47  12.40  12.99  Oct-05   05   Oct\n",
       "4  [Nov, 05]  13.35  13.88  12.88  13.41  Nov-05   05   Nov"
      ]
     },
     "execution_count": 24,
     "metadata": {},
     "output_type": "execute_result"
    }
   ],
   "source": [
    "df.head()"
   ]
  },
  {
   "cell_type": "code",
   "execution_count": 25,
   "id": "cf147095",
   "metadata": {},
   "outputs": [],
   "source": [
    "def treat_month_col(col):\n",
    "    months=[]\n",
    "    for value in col:\n",
    "        dict_month={'Jan':1, 'Feb':2, 'Mar':3,'Apr':4, 'May':5, 'Jun':6, 'Jul':7, 'Aug':8, 'Sep':9, 'Oct':10, 'Nov':11, 'Dec':12}\n",
    "        months.append(dict_month[value])\n",
    "        \n",
    "    return months"
   ]
  },
  {
   "cell_type": "code",
   "execution_count": 26,
   "id": "c5012d92",
   "metadata": {},
   "outputs": [
    {
     "data": {
      "text/plain": [
       "'Aug'"
      ]
     },
     "execution_count": 26,
     "metadata": {},
     "output_type": "execute_result"
    }
   ],
   "source": [
    "df.Month[1]"
   ]
  },
  {
   "cell_type": "code",
   "execution_count": 27,
   "id": "1ca249c3",
   "metadata": {},
   "outputs": [],
   "source": [
    "df['month']=treat_month_col(df['Month'])"
   ]
  },
  {
   "cell_type": "code",
   "execution_count": 28,
   "id": "fdd4e428",
   "metadata": {},
   "outputs": [
    {
     "data": {
      "text/plain": [
       "<bound method Series.unique of 0       7\n",
       "1       8\n",
       "2       9\n",
       "3      10\n",
       "4      11\n",
       "       ..\n",
       "180     7\n",
       "181     8\n",
       "182     9\n",
       "183    10\n",
       "184    11\n",
       "Name: month, Length: 185, dtype: int64>"
      ]
     },
     "execution_count": 28,
     "metadata": {},
     "output_type": "execute_result"
    }
   ],
   "source": [
    "df.month.unique"
   ]
  },
  {
   "cell_type": "code",
   "execution_count": 29,
   "id": "c744b67e",
   "metadata": {},
   "outputs": [
    {
     "data": {
      "text/html": [
       "<div>\n",
       "<style scoped>\n",
       "    .dataframe tbody tr th:only-of-type {\n",
       "        vertical-align: middle;\n",
       "    }\n",
       "\n",
       "    .dataframe tbody tr th {\n",
       "        vertical-align: top;\n",
       "    }\n",
       "\n",
       "    .dataframe thead th {\n",
       "        text-align: right;\n",
       "    }\n",
       "</style>\n",
       "<table border=\"1\" class=\"dataframe\">\n",
       "  <thead>\n",
       "    <tr style=\"text-align: right;\">\n",
       "      <th></th>\n",
       "      <th>Date</th>\n",
       "      <th>Open</th>\n",
       "      <th>High</th>\n",
       "      <th>Low</th>\n",
       "      <th>Close</th>\n",
       "      <th>date</th>\n",
       "      <th>Year</th>\n",
       "      <th>Month</th>\n",
       "      <th>month</th>\n",
       "    </tr>\n",
       "  </thead>\n",
       "  <tbody>\n",
       "    <tr>\n",
       "      <th>0</th>\n",
       "      <td>[Jul, 05]</td>\n",
       "      <td>13.00</td>\n",
       "      <td>14.00</td>\n",
       "      <td>11.25</td>\n",
       "      <td>12.46</td>\n",
       "      <td>Jul-05</td>\n",
       "      <td>05</td>\n",
       "      <td>Jul</td>\n",
       "      <td>7</td>\n",
       "    </tr>\n",
       "    <tr>\n",
       "      <th>1</th>\n",
       "      <td>[Aug, 05]</td>\n",
       "      <td>12.58</td>\n",
       "      <td>14.88</td>\n",
       "      <td>12.55</td>\n",
       "      <td>13.42</td>\n",
       "      <td>Aug-05</td>\n",
       "      <td>05</td>\n",
       "      <td>Aug</td>\n",
       "      <td>8</td>\n",
       "    </tr>\n",
       "    <tr>\n",
       "      <th>2</th>\n",
       "      <td>[Sep, 05]</td>\n",
       "      <td>13.48</td>\n",
       "      <td>14.87</td>\n",
       "      <td>12.27</td>\n",
       "      <td>13.30</td>\n",
       "      <td>Sep-05</td>\n",
       "      <td>05</td>\n",
       "      <td>Sep</td>\n",
       "      <td>9</td>\n",
       "    </tr>\n",
       "    <tr>\n",
       "      <th>3</th>\n",
       "      <td>[Oct, 05]</td>\n",
       "      <td>13.20</td>\n",
       "      <td>14.47</td>\n",
       "      <td>12.40</td>\n",
       "      <td>12.99</td>\n",
       "      <td>Oct-05</td>\n",
       "      <td>05</td>\n",
       "      <td>Oct</td>\n",
       "      <td>10</td>\n",
       "    </tr>\n",
       "    <tr>\n",
       "      <th>4</th>\n",
       "      <td>[Nov, 05]</td>\n",
       "      <td>13.35</td>\n",
       "      <td>13.88</td>\n",
       "      <td>12.88</td>\n",
       "      <td>13.41</td>\n",
       "      <td>Nov-05</td>\n",
       "      <td>05</td>\n",
       "      <td>Nov</td>\n",
       "      <td>11</td>\n",
       "    </tr>\n",
       "    <tr>\n",
       "      <th>5</th>\n",
       "      <td>[Dec, 05]</td>\n",
       "      <td>13.49</td>\n",
       "      <td>14.44</td>\n",
       "      <td>13.00</td>\n",
       "      <td>13.71</td>\n",
       "      <td>Dec-05</td>\n",
       "      <td>05</td>\n",
       "      <td>Dec</td>\n",
       "      <td>12</td>\n",
       "    </tr>\n",
       "    <tr>\n",
       "      <th>6</th>\n",
       "      <td>[Jan, 06]</td>\n",
       "      <td>13.68</td>\n",
       "      <td>17.16</td>\n",
       "      <td>13.58</td>\n",
       "      <td>15.33</td>\n",
       "      <td>Jan-06</td>\n",
       "      <td>06</td>\n",
       "      <td>Jan</td>\n",
       "      <td>1</td>\n",
       "    </tr>\n",
       "    <tr>\n",
       "      <th>7</th>\n",
       "      <td>[Feb, 06]</td>\n",
       "      <td>15.50</td>\n",
       "      <td>16.97</td>\n",
       "      <td>15.40</td>\n",
       "      <td>16.12</td>\n",
       "      <td>Feb-06</td>\n",
       "      <td>06</td>\n",
       "      <td>Feb</td>\n",
       "      <td>2</td>\n",
       "    </tr>\n",
       "    <tr>\n",
       "      <th>8</th>\n",
       "      <td>[Mar, 06]</td>\n",
       "      <td>16.20</td>\n",
       "      <td>20.95</td>\n",
       "      <td>16.02</td>\n",
       "      <td>20.08</td>\n",
       "      <td>Mar-06</td>\n",
       "      <td>06</td>\n",
       "      <td>Mar</td>\n",
       "      <td>3</td>\n",
       "    </tr>\n",
       "    <tr>\n",
       "      <th>9</th>\n",
       "      <td>[Apr, 06]</td>\n",
       "      <td>20.56</td>\n",
       "      <td>20.80</td>\n",
       "      <td>18.02</td>\n",
       "      <td>19.49</td>\n",
       "      <td>Apr-06</td>\n",
       "      <td>06</td>\n",
       "      <td>Apr</td>\n",
       "      <td>4</td>\n",
       "    </tr>\n",
       "  </tbody>\n",
       "</table>\n",
       "</div>"
      ],
      "text/plain": [
       "        Date   Open   High    Low  Close    date Year Month  month\n",
       "0  [Jul, 05]  13.00  14.00  11.25  12.46  Jul-05   05   Jul      7\n",
       "1  [Aug, 05]  12.58  14.88  12.55  13.42  Aug-05   05   Aug      8\n",
       "2  [Sep, 05]  13.48  14.87  12.27  13.30  Sep-05   05   Sep      9\n",
       "3  [Oct, 05]  13.20  14.47  12.40  12.99  Oct-05   05   Oct     10\n",
       "4  [Nov, 05]  13.35  13.88  12.88  13.41  Nov-05   05   Nov     11\n",
       "5  [Dec, 05]  13.49  14.44  13.00  13.71  Dec-05   05   Dec     12\n",
       "6  [Jan, 06]  13.68  17.16  13.58  15.33  Jan-06   06   Jan      1\n",
       "7  [Feb, 06]  15.50  16.97  15.40  16.12  Feb-06   06   Feb      2\n",
       "8  [Mar, 06]  16.20  20.95  16.02  20.08  Mar-06   06   Mar      3\n",
       "9  [Apr, 06]  20.56  20.80  18.02  19.49  Apr-06   06   Apr      4"
      ]
     },
     "execution_count": 29,
     "metadata": {},
     "output_type": "execute_result"
    }
   ],
   "source": [
    "df.head(10)"
   ]
  },
  {
   "cell_type": "code",
   "execution_count": 30,
   "id": "a9778851",
   "metadata": {},
   "outputs": [
    {
     "data": {
      "text/plain": [
       "<AxesSubplot: xlabel='date', ylabel='Close'>"
      ]
     },
     "execution_count": 30,
     "metadata": {},
     "output_type": "execute_result"
    },
    {
     "data": {
      "image/png": "[encoded data removed]",
      "text/plain": [
       "<Figure size 432x288 with 1 Axes>"
      ]
     },
     "metadata": {
      "needs_background": "light"
     },
     "output_type": "display_data"
    }
   ],
   "source": [
    "sns.scatterplot(x=df['date'],y=df['Close'],color='g')"
   ]
  },
  {
   "cell_type": "code",
   "execution_count": 31,
   "id": "5defdef0",
   "metadata": {},
   "outputs": [
    {
     "data": {
      "text/plain": [
       "<AxesSubplot: xlabel='date', ylabel='Low'>"
      ]
     },
     "execution_count": 31,
     "metadata": {},
     "output_type": "execute_result"
    },
    {
     "data": {
      "image/png": "[encoded data removed]",
      "text/plain": [
       "<Figure size 432x288 with 1 Axes>"
      ]
     },
     "metadata": {
      "needs_background": "light"
     },
     "output_type": "display_data"
    }
   ],
   "source": [
    "sns.scatterplot(x=df['date'],y=df['Low'],color='g')"
   ]
  },
  {
   "cell_type": "code",
   "execution_count": 32,
   "id": "f17f61e6",
   "metadata": {},
   "outputs": [
    {
     "data": {
      "text/html": [
       "<div>\n",
       "<style scoped>\n",
       "    .dataframe tbody tr th:only-of-type {\n",
       "        vertical-align: middle;\n",
       "    }\n",
       "\n",
       "    .dataframe tbody tr th {\n",
       "        vertical-align: top;\n",
       "    }\n",
       "\n",
       "    .dataframe thead th {\n",
       "        text-align: right;\n",
       "    }\n",
       "</style>\n",
       "<table border=\"1\" class=\"dataframe\">\n",
       "  <thead>\n",
       "    <tr style=\"text-align: right;\">\n",
       "      <th></th>\n",
       "      <th>Date</th>\n",
       "      <th>Open</th>\n",
       "      <th>High</th>\n",
       "      <th>Low</th>\n",
       "      <th>Close</th>\n",
       "      <th>date</th>\n",
       "      <th>Year</th>\n",
       "      <th>Month</th>\n",
       "      <th>month</th>\n",
       "    </tr>\n",
       "  </thead>\n",
       "  <tbody>\n",
       "    <tr>\n",
       "      <th>0</th>\n",
       "      <td>[Jul, 05]</td>\n",
       "      <td>13.00</td>\n",
       "      <td>14.00</td>\n",
       "      <td>11.25</td>\n",
       "      <td>12.46</td>\n",
       "      <td>Jul-05</td>\n",
       "      <td>05</td>\n",
       "      <td>Jul</td>\n",
       "      <td>7</td>\n",
       "    </tr>\n",
       "    <tr>\n",
       "      <th>1</th>\n",
       "      <td>[Aug, 05]</td>\n",
       "      <td>12.58</td>\n",
       "      <td>14.88</td>\n",
       "      <td>12.55</td>\n",
       "      <td>13.42</td>\n",
       "      <td>Aug-05</td>\n",
       "      <td>05</td>\n",
       "      <td>Aug</td>\n",
       "      <td>8</td>\n",
       "    </tr>\n",
       "    <tr>\n",
       "      <th>2</th>\n",
       "      <td>[Sep, 05]</td>\n",
       "      <td>13.48</td>\n",
       "      <td>14.87</td>\n",
       "      <td>12.27</td>\n",
       "      <td>13.30</td>\n",
       "      <td>Sep-05</td>\n",
       "      <td>05</td>\n",
       "      <td>Sep</td>\n",
       "      <td>9</td>\n",
       "    </tr>\n",
       "    <tr>\n",
       "      <th>3</th>\n",
       "      <td>[Oct, 05]</td>\n",
       "      <td>13.20</td>\n",
       "      <td>14.47</td>\n",
       "      <td>12.40</td>\n",
       "      <td>12.99</td>\n",
       "      <td>Oct-05</td>\n",
       "      <td>05</td>\n",
       "      <td>Oct</td>\n",
       "      <td>10</td>\n",
       "    </tr>\n",
       "    <tr>\n",
       "      <th>4</th>\n",
       "      <td>[Nov, 05]</td>\n",
       "      <td>13.35</td>\n",
       "      <td>13.88</td>\n",
       "      <td>12.88</td>\n",
       "      <td>13.41</td>\n",
       "      <td>Nov-05</td>\n",
       "      <td>05</td>\n",
       "      <td>Nov</td>\n",
       "      <td>11</td>\n",
       "    </tr>\n",
       "  </tbody>\n",
       "</table>\n",
       "</div>"
      ],
      "text/plain": [
       "        Date   Open   High    Low  Close    date Year Month  month\n",
       "0  [Jul, 05]  13.00  14.00  11.25  12.46  Jul-05   05   Jul      7\n",
       "1  [Aug, 05]  12.58  14.88  12.55  13.42  Aug-05   05   Aug      8\n",
       "2  [Sep, 05]  13.48  14.87  12.27  13.30  Sep-05   05   Sep      9\n",
       "3  [Oct, 05]  13.20  14.47  12.40  12.99  Oct-05   05   Oct     10\n",
       "4  [Nov, 05]  13.35  13.88  12.88  13.41  Nov-05   05   Nov     11"
      ]
     },
     "execution_count": 32,
     "metadata": {},
     "output_type": "execute_result"
    }
   ],
   "source": [
    "df.head()"
   ]
  },
  {
   "cell_type": "code",
   "execution_count": 33,
   "id": "a42e69b1",
   "metadata": {},
   "outputs": [],
   "source": [
    "del df['Date'], df['date'], df['Month']"
   ]
  },
  {
   "cell_type": "code",
   "execution_count": 34,
   "id": "e8f4279f",
   "metadata": {},
   "outputs": [
    {
     "data": {
      "text/html": [
       "<div>\n",
       "<style scoped>\n",
       "    .dataframe tbody tr th:only-of-type {\n",
       "        vertical-align: middle;\n",
       "    }\n",
       "\n",
       "    .dataframe tbody tr th {\n",
       "        vertical-align: top;\n",
       "    }\n",
       "\n",
       "    .dataframe thead th {\n",
       "        text-align: right;\n",
       "    }\n",
       "</style>\n",
       "<table border=\"1\" class=\"dataframe\">\n",
       "  <thead>\n",
       "    <tr style=\"text-align: right;\">\n",
       "      <th></th>\n",
       "      <th>Open</th>\n",
       "      <th>High</th>\n",
       "      <th>Low</th>\n",
       "      <th>Close</th>\n",
       "      <th>Year</th>\n",
       "      <th>month</th>\n",
       "    </tr>\n",
       "  </thead>\n",
       "  <tbody>\n",
       "    <tr>\n",
       "      <th>0</th>\n",
       "      <td>13.00</td>\n",
       "      <td>14.00</td>\n",
       "      <td>11.25</td>\n",
       "      <td>12.46</td>\n",
       "      <td>05</td>\n",
       "      <td>7</td>\n",
       "    </tr>\n",
       "    <tr>\n",
       "      <th>1</th>\n",
       "      <td>12.58</td>\n",
       "      <td>14.88</td>\n",
       "      <td>12.55</td>\n",
       "      <td>13.42</td>\n",
       "      <td>05</td>\n",
       "      <td>8</td>\n",
       "    </tr>\n",
       "    <tr>\n",
       "      <th>2</th>\n",
       "      <td>13.48</td>\n",
       "      <td>14.87</td>\n",
       "      <td>12.27</td>\n",
       "      <td>13.30</td>\n",
       "      <td>05</td>\n",
       "      <td>9</td>\n",
       "    </tr>\n",
       "    <tr>\n",
       "      <th>3</th>\n",
       "      <td>13.20</td>\n",
       "      <td>14.47</td>\n",
       "      <td>12.40</td>\n",
       "      <td>12.99</td>\n",
       "      <td>05</td>\n",
       "      <td>10</td>\n",
       "    </tr>\n",
       "    <tr>\n",
       "      <th>4</th>\n",
       "      <td>13.35</td>\n",
       "      <td>13.88</td>\n",
       "      <td>12.88</td>\n",
       "      <td>13.41</td>\n",
       "      <td>05</td>\n",
       "      <td>11</td>\n",
       "    </tr>\n",
       "  </tbody>\n",
       "</table>\n",
       "</div>"
      ],
      "text/plain": [
       "    Open   High    Low  Close Year  month\n",
       "0  13.00  14.00  11.25  12.46   05      7\n",
       "1  12.58  14.88  12.55  13.42   05      8\n",
       "2  13.48  14.87  12.27  13.30   05      9\n",
       "3  13.20  14.47  12.40  12.99   05     10\n",
       "4  13.35  13.88  12.88  13.41   05     11"
      ]
     },
     "execution_count": 34,
     "metadata": {},
     "output_type": "execute_result"
    }
   ],
   "source": [
    "df.head()"
   ]
  },
  {
   "cell_type": "code",
   "execution_count": 38,
   "id": "482cbc38",
   "metadata": {},
   "outputs": [],
   "source": [
    "X=df.drop(columns=['Close'])\n",
    "y=df['Close']"
   ]
  },
  {
   "cell_type": "code",
   "execution_count": 39,
   "id": "fe6bdeee",
   "metadata": {},
   "outputs": [],
   "source": [
    "import numpy as np\n",
    "import pandas as pd\n",
    "from numpy import math\n",
    "\n",
    "from sklearn.preprocessing import MinMaxScaler\n",
    "from sklearn.model_selection import train_test_split\n",
    "from sklearn.linear_model import LinearRegression\n",
    "from sklearn.metrics import r2_score\n",
    "from sklearn.metrics import mean_squared_error\n",
    "\n",
    "from sklearn.preprocessing import StandardScaler"
   ]
  },
  {
   "cell_type": "code",
   "execution_count": 40,
   "id": "2ba19e17",
   "metadata": {},
   "outputs": [],
   "source": [
    "X_train, X_test, y_train, y_test=train_test_split(X,y, test_size=0.2, random_state=0)"
   ]
  },
  {
   "cell_type": "code",
   "execution_count": 41,
   "id": "7b197473",
   "metadata": {},
   "outputs": [],
   "source": [
    "scaler = MinMaxScaler()\n",
    "# scaler =StandardScaler()\n",
    "X_train = scaler.fit_transform(X_train)\n",
    "X_test = scaler.transform(X_test)"
   ]
  },
  {
   "cell_type": "code",
   "execution_count": 42,
   "id": "79f7a9ef",
   "metadata": {},
   "outputs": [],
   "source": [
    "lr=LinearRegression()"
   ]
  },
  {
   "cell_type": "code",
   "execution_count": 43,
   "id": "5a37377a",
   "metadata": {},
   "outputs": [
    {
     "data": {
      "text/plain": [
       "LinearRegression()"
      ]
     },
     "execution_count": 43,
     "metadata": {},
     "output_type": "execute_result"
    }
   ],
   "source": [
    "lr.fit(X_train, y_train)"
   ]
  },
  {
   "cell_type": "code",
   "execution_count": 44,
   "id": "768b7bef",
   "metadata": {},
   "outputs": [
    {
     "data": {
      "text/plain": [
       "array([ 33.24660656, 139.14647152,  42.14946258, 140.3310661 ,\n",
       "        66.62617609,  35.03862349, 230.57365927,  20.18443036,\n",
       "        13.60632884, 216.21129327, 301.811064  ,  86.91943961,\n",
       "       152.12135389,  60.09747496, 342.6775925 , 261.86793573,\n",
       "        73.41638991,  28.47050778, 262.79796869,  53.91989236,\n",
       "        12.04084474, 117.50518108, 147.45252249,  59.82665459,\n",
       "       218.08610087,  46.31232733, 249.2184523 ,  13.67647759,\n",
       "       108.40263626,  55.53052904, 368.18901019, 339.73125906,\n",
       "        72.7519087 , 169.25725296,  39.44868981,  50.85945893,\n",
       "       260.85138375])"
      ]
     },
     "execution_count": 44,
     "metadata": {},
     "output_type": "execute_result"
    }
   ],
   "source": [
    "y_pred=lr.predict(X_test)\n",
    "y_pred"
   ]
  },
  {
   "cell_type": "code",
   "execution_count": 45,
   "id": "9479eb9c",
   "metadata": {},
   "outputs": [
    {
     "data": {
      "text/plain": [
       "0.9928088358243096"
      ]
     },
     "execution_count": 45,
     "metadata": {},
     "output_type": "execute_result"
    }
   ],
   "source": [
    "r2_score(y_pred,y_test)"
   ]
  },
  {
   "cell_type": "code",
   "execution_count": null,
   "id": "9f1c9c3f",
   "metadata": {},
   "outputs": [],
   "source": [
    "lr.predict(y_train,)"
   ]
  },
  {
   "cell_type": "code",
   "execution_count": null,
   "id": "9b654216",
   "metadata": {},
   "outputs": [],
   "source": [
    "r2_score(y_pred,y_test)"
   ]
  }
 ],
 "metadata": {
  "kernelspec": {
   "display_name": "Python 3 (ipykernel)",
   "language": "python",
   "name": "python3"
  },
  "language_info": {
   "codemirror_mode": {
    "name": "ipython",
    "version": 3
   },
   "file_extension": ".py",
   "mimetype": "text/x-python",
   "name": "python",
   "nbconvert_exporter": "python",
   "pygments_lexer": "ipython3",
   "version": "3.9.7"
  }
 },
 "nbformat": 4,
 "nbformat_minor": 5
}
